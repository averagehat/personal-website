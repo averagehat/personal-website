{
 "metadata": {
  "signature": "sha256:382fda2d4d8a1a1e5474b8a46eb3149c3f4f63cf1dad14be21d23250ba3969f0"
 },
 "nbformat": 3,
 "nbformat_minor": 0,
 "worksheets": [
  {
   "cells": [
    {
     "cell_type": "markdown",
     "metadata": {},
     "source": [
      "\n",
      "Today, we're going to setup a simple penetration testing lab. For our vulnerable website, we'll use [[Dang] Vulnerable Web App](https://github.com/RandomStorm/DVWA). DVWA has a bunch of PHP-generated pages we can practice techniques like SQL injection, cross-site-scripting, etc. in a safe, legal environment. It also has different \"security\" levels to make it easier (or harder) for us.\n",
      "\n",
      "\n",
      "XAMPP is a portable, cross-platform web-stack for development. LAMPP--Linux, Apache, MySQL, PHP, Perl. We could install these components on our linux box individually, but by using the XAMPP package, we can get up and running quickly, and don't have to worry about auto-updating components. \n",
      "\n",
      "\n"
     ]
    },
    {
     "cell_type": "code",
     "collapsed": false,
     "input": [
      "curl  http://downloads.sourceforge.net/project/xampp/XAMPP%20Linux/5.6.3/xampp-linux-x64-5.6.3-0-installer.run?r=http%3A%2F%2Fsourceforge.net%2Fprojects%2Fxampp%2Ffiles%2FXAMPP%2520Linux%2F5.6.3%2F&ts=1417152175&use_mirror=superb-dca2 >> xampp.installer"
     ],
     "language": "python",
     "metadata": {},
     "outputs": []
    },
    {
     "cell_type": "code",
     "collapsed": false,
     "input": [
      "su -c ./xampp.installer\n",
      "\n",
      "----------------------------------------------------------------------------\n",
      "Welcome to the XAMPP Setup Wizard.\n",
      "\n",
      "----------------------------------------------------------------------------\n",
      "Select the components you want to install; clear the components you do not want \n",
      "to install. Click Next when you are ready to continue.\n",
      "\n",
      "XAMPP Core Files [y/N] : y  # Say yes to everything\n"
     ],
     "language": "python",
     "metadata": {},
     "outputs": []
    },
    {
     "cell_type": "markdown",
     "metadata": {},
     "source": [
      "xampp installs itself in /opt/lampp, so it will not interfere with any other versions of mysql, etc. you might have installed.\n",
      "<br> We can run the server now."
     ]
    },
    {
     "cell_type": "code",
     "collapsed": false,
     "input": [
      "sudo /opt/lampp/lampp start\n",
      "Starting XAMPP for Linux ...\n",
      "XAMPP: Starting Apache...ok.\n",
      "XAMPP: Starting MySQL...ok.\n",
      "XAMPP: Starting ProFTPD...ok.\n",
      "    \n",
      "We should see the server up and running at localhost now."
     ],
     "language": "python",
     "metadata": {},
     "outputs": []
    },
    {
     "cell_type": "code",
     "collapsed": false,
     "input": [
      "curl localhost:80/xampp -L  #-L tells curl to follow the link. Alternatively, open this link in your browser."
     ],
     "language": "python",
     "metadata": {},
     "outputs": []
    },
    {
     "cell_type": "markdown",
     "metadata": {},
     "source": [
      "But if you are trying to access the webpage externally, you'll get this error:"
     ]
    },
    {
     "cell_type": "markdown",
     "metadata": {},
     "source": [
      "<img src=../images/xamppscreens/test.png>"
     ]
    },
    {
     "cell_type": "markdown",
     "metadata": {},
     "source": [
      "We need to alter the `httpd-xampp.conf` file to allow external read access.\n",
      "We can do this by opening `/opt/lampp/etc/extra/httpd-xampp.conf`  and commenting out \"Require Local\" using  '#'\n",
      "Alternatively:"
     ]
    },
    {
     "cell_type": "code",
     "collapsed": false,
     "input": [
      "sed -i 's/Require\\ local/#Require\\ local/' /opt/lampp/etc/extra/httpd-xampp.conf  # -i tells sed to edit the file in-place\n",
      "# Restart the server\n",
      "sudo /opt/lampp/lampp restart"
     ],
     "language": "python",
     "metadata": {},
     "outputs": []
    },
    {
     "cell_type": "markdown",
     "metadata": {},
     "source": [
      "Now we'll get this webpage:\n",
      "<img src=../images/xamppscreens/accepted.png>"
     ]
    },
    {
     "cell_type": "markdown",
     "metadata": {},
     "source": [
      "Much better. Now let's download and stall DVWA (Damn Vulnerable Web App). (But you better turn off external access first)"
     ]
    },
    {
     "cell_type": "code",
     "collapsed": false,
     "input": [
      "git clone https://github.com/RandomStorm/DVWA #download Damn Vulnerable Web App"
     ],
     "language": "python",
     "metadata": {},
     "outputs": []
    },
    {
     "cell_type": "markdown",
     "metadata": {},
     "source": [
      "By default, our new folder won't allow the client view our files or make any changes. So we update the permissions (Note: don't use these permissions for deploying a real app) <br>\n"
     ]
    },
    {
     "cell_type": "code",
     "collapsed": false,
     "input": [
      "sudo chmod -R 755 DVWA \n"
     ],
     "language": "python",
     "metadata": {},
     "outputs": []
    },
    {
     "cell_type": "markdown",
     "metadata": {},
     "source": [
      "We need to point xampp to our new website. By default apache looks in the /opt/lampp/htdocs folder. so: <br>\n"
     ]
    },
    {
     "cell_type": "code",
     "collapsed": false,
     "input": [
      "sudo ln -s DVWA /opt/lampp/htdocs/dvwa"
     ],
     "language": "python",
     "metadata": {},
     "outputs": []
    },
    {
     "cell_type": "markdown",
     "metadata": {},
     "source": [
      "Now pont your web browser to localhost:80/dvwa.  You'll see something like this:\n",
      "<img src=\"../images/xamppscreens/pre-db2.png\">"
     ]
    },
    {
     "cell_type": "markdown",
     "metadata": {},
     "source": [
      "But the database is password-protected, so we can't set up the database yet! We can delete the database password with sed:"
     ]
    },
    {
     "cell_type": "code",
     "collapsed": false,
     "input": [
      "sed -i 's/p@ssw0rd//' DVWA/config/config.inc.php   #p@ssw0rd is the default DB password."
     ],
     "language": "python",
     "metadata": {},
     "outputs": []
    },
    {
     "cell_type": "markdown",
     "metadata": {},
     "source": [
      "Alternatively, you can create the database by opening mysql as root and adding the \"dvwa\" database manually. Let's check that the new Database is there:"
     ]
    },
    {
     "cell_type": "code",
     "collapsed": false,
     "input": [
      "/opt/lampp/bin/mysql -u root -p\n",
      "mysql> show databases ;\n",
      "+--------------------+\n",
      "| Database           |\n",
      "+--------------------+\n",
      "| information_schema |\n",
      "| cdcol              |\n",
      "| dvwa               |  <== DVWA! it worked.\n",
      "| mysql              |\n",
      "| performance_schema |\n",
      "| phpmyadmin         |\n",
      "| test               |\n",
      "+--------------------+"
     ],
     "language": "python",
     "metadata": {},
     "outputs": []
    },
    {
     "cell_type": "markdown",
     "metadata": {},
     "source": [
      "**Now we can log in and use the app. By default, the username is \"admin\" and the password is--you guessed it--\"password\".**\n",
      "<img src=../images/xamppscreens/login.png>"
     ]
    },
    {
     "cell_type": "markdown",
     "metadata": {},
     "source": [
      "**And we're in!**\n",
      "<img src=\"../images/xamppscreens/mainpage.png\">"
     ]
    }
   ],
   "metadata": {}
  }
 ]
}